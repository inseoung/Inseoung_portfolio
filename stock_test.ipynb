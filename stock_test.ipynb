{
 "cells": [
  {
   "cell_type": "code",
   "execution_count": 119,
   "metadata": {},
   "outputs": [
    {
     "name": "stderr",
     "output_type": "stream",
     "text": [
      "Using TensorFlow backend.\n"
     ]
    }
   ],
   "source": [
    "from keras.models import Model\n",
    "from keras.layers import Input, Dense, LSTM, Bidirectional\n",
    "from keras import backend as K\n",
    "\n",
    "import numpy as np\n",
    "import matplotlib.pyplot as plt"
   ]
  },
  {
   "cell_type": "code",
   "execution_count": 120,
   "metadata": {
    "collapsed": true
   },
   "outputs": [],
   "source": [
    "import matplotlib.pyplot as plt\n",
    "import pandas as pd"
   ]
  },
  {
   "cell_type": "markdown",
   "metadata": {},
   "source": [
    "## 제출 방법\n",
    "\n",
    "※ 내용은 분석(개발)배경, 활용 데이터 정의, 데이터 처리방안 및 활용 기법, 분석(개발) 결과, 서비스 활용방안, 기대효과를 포함하여야 함 \n",
    "\n",
    "※ 타 공모전 수상작, 타인의 저작물 도용 등의 경우 심사제외 및 수상취소\n",
    "\n",
    "※ 최종 프로젝트 발표 시 시연이 필요할 경우, 현장 실시간 시연을 원칙으로 함(녹화 동영상 불가"
   ]
  },
  {
   "cell_type": "markdown",
   "metadata": {},
   "source": [
    "### 메모\n",
    "고장 데이터 + 새롭게 생산하는 데이터 \n",
    "\n",
    "합쳐서 재고관리 할 수 있는 방안??"
   ]
  },
  {
   "cell_type": "code",
   "execution_count": 121,
   "metadata": {
    "collapsed": true
   },
   "outputs": [],
   "source": [
    "df = pd.read_csv('svm_1.csv', engine= 'python')"
   ]
  },
  {
   "cell_type": "code",
   "execution_count": 4,
   "metadata": {},
   "outputs": [
    {
     "data": {
      "text/html": [
       "<div>\n",
       "<style>\n",
       "    .dataframe thead tr:only-child th {\n",
       "        text-align: right;\n",
       "    }\n",
       "\n",
       "    .dataframe thead th {\n",
       "        text-align: left;\n",
       "    }\n",
       "\n",
       "    .dataframe tbody tr th {\n",
       "        vertical-align: top;\n",
       "    }\n",
       "</style>\n",
       "<table border=\"1\" class=\"dataframe\">\n",
       "  <thead>\n",
       "    <tr style=\"text-align: right;\">\n",
       "      <th></th>\n",
       "      <th>소재부품코드</th>\n",
       "      <th>소재부품코드명</th>\n",
       "      <th>사업체수</th>\n",
       "      <th>종업원수</th>\n",
       "      <th>부가가치(백만원)</th>\n",
       "      <th>생산(백만원)</th>\n",
       "      <th>출하(백만원)</th>\n",
       "      <th>재고(백만원)</th>\n",
       "      <th>Unnamed: 8</th>\n",
       "      <th>Unnamed: 9</th>\n",
       "      <th>Unnamed: 10</th>\n",
       "      <th>Unnamed: 11</th>\n",
       "    </tr>\n",
       "  </thead>\n",
       "  <tbody>\n",
       "    <tr>\n",
       "      <th>0</th>\n",
       "      <td>0</td>\n",
       "      <td>소재부품</td>\n",
       "      <td>25288</td>\n",
       "      <td>1320467.0</td>\n",
       "      <td>249141801.0</td>\n",
       "      <td>676641651.0</td>\n",
       "      <td>677725336.0</td>\n",
       "      <td>25280383.0</td>\n",
       "      <td>NaN</td>\n",
       "      <td>NaN</td>\n",
       "      <td>NaN</td>\n",
       "      <td>NaN</td>\n",
       "    </tr>\n",
       "    <tr>\n",
       "      <th>1</th>\n",
       "      <td>11000</td>\n",
       "      <td>섬유제품</td>\n",
       "      <td>1128</td>\n",
       "      <td>37167.0</td>\n",
       "      <td>3605258.0</td>\n",
       "      <td>10406977.0</td>\n",
       "      <td>10376181.0</td>\n",
       "      <td>835453.0</td>\n",
       "      <td>NaN</td>\n",
       "      <td>NaN</td>\n",
       "      <td>NaN</td>\n",
       "      <td>NaN</td>\n",
       "    </tr>\n",
       "    <tr>\n",
       "      <th>2</th>\n",
       "      <td>11010</td>\n",
       "      <td>제사 및 방적</td>\n",
       "      <td>231</td>\n",
       "      <td>8850.0</td>\n",
       "      <td>640789.0</td>\n",
       "      <td>2336320.0</td>\n",
       "      <td>2325367.0</td>\n",
       "      <td>230446.0</td>\n",
       "      <td>NaN</td>\n",
       "      <td>NaN</td>\n",
       "      <td>NaN</td>\n",
       "      <td>NaN</td>\n",
       "    </tr>\n",
       "    <tr>\n",
       "      <th>3</th>\n",
       "      <td>11011</td>\n",
       "      <td>면방적</td>\n",
       "      <td>28</td>\n",
       "      <td>2784.0</td>\n",
       "      <td>168162.0</td>\n",
       "      <td>822629.0</td>\n",
       "      <td>817555.0</td>\n",
       "      <td>85228.0</td>\n",
       "      <td>NaN</td>\n",
       "      <td>NaN</td>\n",
       "      <td>NaN</td>\n",
       "      <td>NaN</td>\n",
       "    </tr>\n",
       "    <tr>\n",
       "      <th>4</th>\n",
       "      <td>11012</td>\n",
       "      <td>모방적</td>\n",
       "      <td>31</td>\n",
       "      <td>1143.0</td>\n",
       "      <td>90698.0</td>\n",
       "      <td>254704.0</td>\n",
       "      <td>251232.0</td>\n",
       "      <td>43691.0</td>\n",
       "      <td>NaN</td>\n",
       "      <td>NaN</td>\n",
       "      <td>NaN</td>\n",
       "      <td>NaN</td>\n",
       "    </tr>\n",
       "  </tbody>\n",
       "</table>\n",
       "</div>"
      ],
      "text/plain": [
       "   소재부품코드  소재부품코드명   사업체수       종업원수    부가가치(백만원)      생산(백만원)      출하(백만원)  \\\n",
       "0       0     소재부품  25288  1320467.0  249141801.0  676641651.0  677725336.0   \n",
       "1   11000     섬유제품   1128    37167.0    3605258.0   10406977.0   10376181.0   \n",
       "2   11010  제사 및 방적    231     8850.0     640789.0    2336320.0    2325367.0   \n",
       "3   11011      면방적     28     2784.0     168162.0     822629.0     817555.0   \n",
       "4   11012      모방적     31     1143.0      90698.0     254704.0     251232.0   \n",
       "\n",
       "      재고(백만원)  Unnamed: 8  Unnamed: 9  Unnamed: 10 Unnamed: 11  \n",
       "0  25280383.0         NaN         NaN          NaN         NaN  \n",
       "1    835453.0         NaN         NaN          NaN         NaN  \n",
       "2    230446.0         NaN         NaN          NaN         NaN  \n",
       "3     85228.0         NaN         NaN          NaN         NaN  \n",
       "4     43691.0         NaN         NaN          NaN         NaN  "
      ]
     },
     "execution_count": 4,
     "metadata": {},
     "output_type": "execute_result"
    }
   ],
   "source": [
    "df.head()"
   ]
  },
  {
   "cell_type": "code",
   "execution_count": 32,
   "metadata": {},
   "outputs": [
    {
     "data": {
      "text/plain": [
       "(315, 11)"
      ]
     },
     "execution_count": 32,
     "metadata": {},
     "output_type": "execute_result"
    }
   ],
   "source": [
    "df.shape"
   ]
  },
  {
   "cell_type": "code",
   "execution_count": 5,
   "metadata": {
    "collapsed": true
   },
   "outputs": [],
   "source": [
    "del df['Unnamed: 8']"
   ]
  },
  {
   "cell_type": "code",
   "execution_count": 6,
   "metadata": {},
   "outputs": [
    {
     "data": {
      "text/html": [
       "<div>\n",
       "<style>\n",
       "    .dataframe thead tr:only-child th {\n",
       "        text-align: right;\n",
       "    }\n",
       "\n",
       "    .dataframe thead th {\n",
       "        text-align: left;\n",
       "    }\n",
       "\n",
       "    .dataframe tbody tr th {\n",
       "        vertical-align: top;\n",
       "    }\n",
       "</style>\n",
       "<table border=\"1\" class=\"dataframe\">\n",
       "  <thead>\n",
       "    <tr style=\"text-align: right;\">\n",
       "      <th></th>\n",
       "      <th>소재부품코드</th>\n",
       "      <th>소재부품코드명</th>\n",
       "      <th>사업체수</th>\n",
       "      <th>종업원수</th>\n",
       "      <th>부가가치(백만원)</th>\n",
       "      <th>생산(백만원)</th>\n",
       "      <th>출하(백만원)</th>\n",
       "      <th>재고(백만원)</th>\n",
       "      <th>Unnamed: 9</th>\n",
       "      <th>Unnamed: 10</th>\n",
       "      <th>Unnamed: 11</th>\n",
       "    </tr>\n",
       "  </thead>\n",
       "  <tbody>\n",
       "    <tr>\n",
       "      <th>0</th>\n",
       "      <td>0</td>\n",
       "      <td>소재부품</td>\n",
       "      <td>25288</td>\n",
       "      <td>1320467.0</td>\n",
       "      <td>249141801.0</td>\n",
       "      <td>676641651.0</td>\n",
       "      <td>677725336.0</td>\n",
       "      <td>25280383.0</td>\n",
       "      <td>NaN</td>\n",
       "      <td>NaN</td>\n",
       "      <td>NaN</td>\n",
       "    </tr>\n",
       "    <tr>\n",
       "      <th>1</th>\n",
       "      <td>11000</td>\n",
       "      <td>섬유제품</td>\n",
       "      <td>1128</td>\n",
       "      <td>37167.0</td>\n",
       "      <td>3605258.0</td>\n",
       "      <td>10406977.0</td>\n",
       "      <td>10376181.0</td>\n",
       "      <td>835453.0</td>\n",
       "      <td>NaN</td>\n",
       "      <td>NaN</td>\n",
       "      <td>NaN</td>\n",
       "    </tr>\n",
       "    <tr>\n",
       "      <th>2</th>\n",
       "      <td>11010</td>\n",
       "      <td>제사 및 방적</td>\n",
       "      <td>231</td>\n",
       "      <td>8850.0</td>\n",
       "      <td>640789.0</td>\n",
       "      <td>2336320.0</td>\n",
       "      <td>2325367.0</td>\n",
       "      <td>230446.0</td>\n",
       "      <td>NaN</td>\n",
       "      <td>NaN</td>\n",
       "      <td>NaN</td>\n",
       "    </tr>\n",
       "    <tr>\n",
       "      <th>3</th>\n",
       "      <td>11011</td>\n",
       "      <td>면방적</td>\n",
       "      <td>28</td>\n",
       "      <td>2784.0</td>\n",
       "      <td>168162.0</td>\n",
       "      <td>822629.0</td>\n",
       "      <td>817555.0</td>\n",
       "      <td>85228.0</td>\n",
       "      <td>NaN</td>\n",
       "      <td>NaN</td>\n",
       "      <td>NaN</td>\n",
       "    </tr>\n",
       "    <tr>\n",
       "      <th>4</th>\n",
       "      <td>11012</td>\n",
       "      <td>모방적</td>\n",
       "      <td>31</td>\n",
       "      <td>1143.0</td>\n",
       "      <td>90698.0</td>\n",
       "      <td>254704.0</td>\n",
       "      <td>251232.0</td>\n",
       "      <td>43691.0</td>\n",
       "      <td>NaN</td>\n",
       "      <td>NaN</td>\n",
       "      <td>NaN</td>\n",
       "    </tr>\n",
       "  </tbody>\n",
       "</table>\n",
       "</div>"
      ],
      "text/plain": [
       "   소재부품코드  소재부품코드명   사업체수       종업원수    부가가치(백만원)      생산(백만원)      출하(백만원)  \\\n",
       "0       0     소재부품  25288  1320467.0  249141801.0  676641651.0  677725336.0   \n",
       "1   11000     섬유제품   1128    37167.0    3605258.0   10406977.0   10376181.0   \n",
       "2   11010  제사 및 방적    231     8850.0     640789.0    2336320.0    2325367.0   \n",
       "3   11011      면방적     28     2784.0     168162.0     822629.0     817555.0   \n",
       "4   11012      모방적     31     1143.0      90698.0     254704.0     251232.0   \n",
       "\n",
       "      재고(백만원)  Unnamed: 9  Unnamed: 10 Unnamed: 11  \n",
       "0  25280383.0         NaN          NaN         NaN  \n",
       "1    835453.0         NaN          NaN         NaN  \n",
       "2    230446.0         NaN          NaN         NaN  \n",
       "3     85228.0         NaN          NaN         NaN  \n",
       "4     43691.0         NaN          NaN         NaN  "
      ]
     },
     "execution_count": 6,
     "metadata": {},
     "output_type": "execute_result"
    }
   ],
   "source": [
    "df.head()"
   ]
  },
  {
   "cell_type": "code",
   "execution_count": 7,
   "metadata": {
    "collapsed": true
   },
   "outputs": [],
   "source": [
    "df.drop(['Unnamed: 9','Unnamed: 10','Unnamed: 11' ], axis =1, inplace = True )"
   ]
  },
  {
   "cell_type": "code",
   "execution_count": 8,
   "metadata": {},
   "outputs": [
    {
     "data": {
      "text/html": [
       "<div>\n",
       "<style>\n",
       "    .dataframe thead tr:only-child th {\n",
       "        text-align: right;\n",
       "    }\n",
       "\n",
       "    .dataframe thead th {\n",
       "        text-align: left;\n",
       "    }\n",
       "\n",
       "    .dataframe tbody tr th {\n",
       "        vertical-align: top;\n",
       "    }\n",
       "</style>\n",
       "<table border=\"1\" class=\"dataframe\">\n",
       "  <thead>\n",
       "    <tr style=\"text-align: right;\">\n",
       "      <th></th>\n",
       "      <th>소재부품코드</th>\n",
       "      <th>소재부품코드명</th>\n",
       "      <th>사업체수</th>\n",
       "      <th>종업원수</th>\n",
       "      <th>부가가치(백만원)</th>\n",
       "      <th>생산(백만원)</th>\n",
       "      <th>출하(백만원)</th>\n",
       "      <th>재고(백만원)</th>\n",
       "    </tr>\n",
       "  </thead>\n",
       "  <tbody>\n",
       "    <tr>\n",
       "      <th>0</th>\n",
       "      <td>0</td>\n",
       "      <td>소재부품</td>\n",
       "      <td>25288</td>\n",
       "      <td>1320467.0</td>\n",
       "      <td>249141801.0</td>\n",
       "      <td>676641651.0</td>\n",
       "      <td>677725336.0</td>\n",
       "      <td>25280383.0</td>\n",
       "    </tr>\n",
       "    <tr>\n",
       "      <th>1</th>\n",
       "      <td>11000</td>\n",
       "      <td>섬유제품</td>\n",
       "      <td>1128</td>\n",
       "      <td>37167.0</td>\n",
       "      <td>3605258.0</td>\n",
       "      <td>10406977.0</td>\n",
       "      <td>10376181.0</td>\n",
       "      <td>835453.0</td>\n",
       "    </tr>\n",
       "    <tr>\n",
       "      <th>2</th>\n",
       "      <td>11010</td>\n",
       "      <td>제사 및 방적</td>\n",
       "      <td>231</td>\n",
       "      <td>8850.0</td>\n",
       "      <td>640789.0</td>\n",
       "      <td>2336320.0</td>\n",
       "      <td>2325367.0</td>\n",
       "      <td>230446.0</td>\n",
       "    </tr>\n",
       "    <tr>\n",
       "      <th>3</th>\n",
       "      <td>11011</td>\n",
       "      <td>면방적</td>\n",
       "      <td>28</td>\n",
       "      <td>2784.0</td>\n",
       "      <td>168162.0</td>\n",
       "      <td>822629.0</td>\n",
       "      <td>817555.0</td>\n",
       "      <td>85228.0</td>\n",
       "    </tr>\n",
       "    <tr>\n",
       "      <th>4</th>\n",
       "      <td>11012</td>\n",
       "      <td>모방적</td>\n",
       "      <td>31</td>\n",
       "      <td>1143.0</td>\n",
       "      <td>90698.0</td>\n",
       "      <td>254704.0</td>\n",
       "      <td>251232.0</td>\n",
       "      <td>43691.0</td>\n",
       "    </tr>\n",
       "  </tbody>\n",
       "</table>\n",
       "</div>"
      ],
      "text/plain": [
       "   소재부품코드  소재부품코드명   사업체수       종업원수    부가가치(백만원)      생산(백만원)      출하(백만원)  \\\n",
       "0       0     소재부품  25288  1320467.0  249141801.0  676641651.0  677725336.0   \n",
       "1   11000     섬유제품   1128    37167.0    3605258.0   10406977.0   10376181.0   \n",
       "2   11010  제사 및 방적    231     8850.0     640789.0    2336320.0    2325367.0   \n",
       "3   11011      면방적     28     2784.0     168162.0     822629.0     817555.0   \n",
       "4   11012      모방적     31     1143.0      90698.0     254704.0     251232.0   \n",
       "\n",
       "      재고(백만원)  \n",
       "0  25280383.0  \n",
       "1    835453.0  \n",
       "2    230446.0  \n",
       "3     85228.0  \n",
       "4     43691.0  "
      ]
     },
     "execution_count": 8,
     "metadata": {},
     "output_type": "execute_result"
    }
   ],
   "source": [
    "df.head()"
   ]
  },
  {
   "cell_type": "code",
   "execution_count": null,
   "metadata": {
    "collapsed": true
   },
   "outputs": [],
   "source": [
    "df.sort_values"
   ]
  },
  {
   "cell_type": "code",
   "execution_count": 13,
   "metadata": {
    "collapsed": true
   },
   "outputs": [],
   "source": [
    "# df.drop(0, inplace =True)\n",
    "df.reset_index(inplace =True)"
   ]
  },
  {
   "cell_type": "code",
   "execution_count": 20,
   "metadata": {
    "collapsed": true
   },
   "outputs": [],
   "source": [
    "df.drop('index',axis =1, inplace =True)"
   ]
  },
  {
   "cell_type": "code",
   "execution_count": 21,
   "metadata": {},
   "outputs": [
    {
     "data": {
      "text/html": [
       "<div>\n",
       "<style>\n",
       "    .dataframe thead tr:only-child th {\n",
       "        text-align: right;\n",
       "    }\n",
       "\n",
       "    .dataframe thead th {\n",
       "        text-align: left;\n",
       "    }\n",
       "\n",
       "    .dataframe tbody tr th {\n",
       "        vertical-align: top;\n",
       "    }\n",
       "</style>\n",
       "<table border=\"1\" class=\"dataframe\">\n",
       "  <thead>\n",
       "    <tr style=\"text-align: right;\">\n",
       "      <th></th>\n",
       "      <th>소재부품코드</th>\n",
       "      <th>소재부품코드명</th>\n",
       "      <th>사업체수</th>\n",
       "      <th>종업원수</th>\n",
       "      <th>부가가치(백만원)</th>\n",
       "      <th>생산(백만원)</th>\n",
       "      <th>출하(백만원)</th>\n",
       "      <th>재고(백만원)</th>\n",
       "    </tr>\n",
       "  </thead>\n",
       "  <tbody>\n",
       "    <tr>\n",
       "      <th>0</th>\n",
       "      <td>11000</td>\n",
       "      <td>섬유제품</td>\n",
       "      <td>1128</td>\n",
       "      <td>37167.0</td>\n",
       "      <td>3605258.0</td>\n",
       "      <td>10406977.0</td>\n",
       "      <td>10376181.0</td>\n",
       "      <td>835453.0</td>\n",
       "    </tr>\n",
       "    <tr>\n",
       "      <th>1</th>\n",
       "      <td>11010</td>\n",
       "      <td>제사 및 방적</td>\n",
       "      <td>231</td>\n",
       "      <td>8850.0</td>\n",
       "      <td>640789.0</td>\n",
       "      <td>2336320.0</td>\n",
       "      <td>2325367.0</td>\n",
       "      <td>230446.0</td>\n",
       "    </tr>\n",
       "    <tr>\n",
       "      <th>2</th>\n",
       "      <td>11011</td>\n",
       "      <td>면방적</td>\n",
       "      <td>28</td>\n",
       "      <td>2784.0</td>\n",
       "      <td>168162.0</td>\n",
       "      <td>822629.0</td>\n",
       "      <td>817555.0</td>\n",
       "      <td>85228.0</td>\n",
       "    </tr>\n",
       "    <tr>\n",
       "      <th>3</th>\n",
       "      <td>11012</td>\n",
       "      <td>모방적</td>\n",
       "      <td>31</td>\n",
       "      <td>1143.0</td>\n",
       "      <td>90698.0</td>\n",
       "      <td>254704.0</td>\n",
       "      <td>251232.0</td>\n",
       "      <td>43691.0</td>\n",
       "    </tr>\n",
       "    <tr>\n",
       "      <th>4</th>\n",
       "      <td>11013</td>\n",
       "      <td>화학섬유 방적</td>\n",
       "      <td>69</td>\n",
       "      <td>2471.0</td>\n",
       "      <td>187716.0</td>\n",
       "      <td>670112.0</td>\n",
       "      <td>669316.0</td>\n",
       "      <td>59943.0</td>\n",
       "    </tr>\n",
       "  </tbody>\n",
       "</table>\n",
       "</div>"
      ],
      "text/plain": [
       "   소재부품코드  소재부품코드명  사업체수     종업원수  부가가치(백만원)     생산(백만원)     출하(백만원)   재고(백만원)\n",
       "0   11000     섬유제품  1128  37167.0  3605258.0  10406977.0  10376181.0  835453.0\n",
       "1   11010  제사 및 방적   231   8850.0   640789.0   2336320.0   2325367.0  230446.0\n",
       "2   11011      면방적    28   2784.0   168162.0    822629.0    817555.0   85228.0\n",
       "3   11012      모방적    31   1143.0    90698.0    254704.0    251232.0   43691.0\n",
       "4   11013  화학섬유 방적    69   2471.0   187716.0    670112.0    669316.0   59943.0"
      ]
     },
     "execution_count": 21,
     "metadata": {},
     "output_type": "execute_result"
    }
   ],
   "source": [
    "df.head()"
   ]
  },
  {
   "cell_type": "code",
   "execution_count": 22,
   "metadata": {},
   "outputs": [
    {
     "data": {
      "text/html": [
       "<div>\n",
       "<style>\n",
       "    .dataframe thead tr:only-child th {\n",
       "        text-align: right;\n",
       "    }\n",
       "\n",
       "    .dataframe thead th {\n",
       "        text-align: left;\n",
       "    }\n",
       "\n",
       "    .dataframe tbody tr th {\n",
       "        vertical-align: top;\n",
       "    }\n",
       "</style>\n",
       "<table border=\"1\" class=\"dataframe\">\n",
       "  <thead>\n",
       "    <tr style=\"text-align: right;\">\n",
       "      <th></th>\n",
       "      <th>소재부품코드</th>\n",
       "      <th>소재부품코드명</th>\n",
       "      <th>사업체수</th>\n",
       "      <th>종업원수</th>\n",
       "      <th>부가가치(백만원)</th>\n",
       "      <th>생산(백만원)</th>\n",
       "      <th>출하(백만원)</th>\n",
       "      <th>재고(백만원)</th>\n",
       "      <th>생산/재고</th>\n",
       "    </tr>\n",
       "  </thead>\n",
       "  <tbody>\n",
       "    <tr>\n",
       "      <th>0</th>\n",
       "      <td>11000</td>\n",
       "      <td>섬유제품</td>\n",
       "      <td>1128</td>\n",
       "      <td>37167.0</td>\n",
       "      <td>3605258.0</td>\n",
       "      <td>10406977.0</td>\n",
       "      <td>10376181.0</td>\n",
       "      <td>835453.0</td>\n",
       "      <td>12.456688</td>\n",
       "    </tr>\n",
       "    <tr>\n",
       "      <th>1</th>\n",
       "      <td>11010</td>\n",
       "      <td>제사 및 방적</td>\n",
       "      <td>231</td>\n",
       "      <td>8850.0</td>\n",
       "      <td>640789.0</td>\n",
       "      <td>2336320.0</td>\n",
       "      <td>2325367.0</td>\n",
       "      <td>230446.0</td>\n",
       "      <td>10.138254</td>\n",
       "    </tr>\n",
       "    <tr>\n",
       "      <th>2</th>\n",
       "      <td>11011</td>\n",
       "      <td>면방적</td>\n",
       "      <td>28</td>\n",
       "      <td>2784.0</td>\n",
       "      <td>168162.0</td>\n",
       "      <td>822629.0</td>\n",
       "      <td>817555.0</td>\n",
       "      <td>85228.0</td>\n",
       "      <td>9.652098</td>\n",
       "    </tr>\n",
       "    <tr>\n",
       "      <th>3</th>\n",
       "      <td>11012</td>\n",
       "      <td>모방적</td>\n",
       "      <td>31</td>\n",
       "      <td>1143.0</td>\n",
       "      <td>90698.0</td>\n",
       "      <td>254704.0</td>\n",
       "      <td>251232.0</td>\n",
       "      <td>43691.0</td>\n",
       "      <td>5.829667</td>\n",
       "    </tr>\n",
       "    <tr>\n",
       "      <th>4</th>\n",
       "      <td>11013</td>\n",
       "      <td>화학섬유 방적</td>\n",
       "      <td>69</td>\n",
       "      <td>2471.0</td>\n",
       "      <td>187716.0</td>\n",
       "      <td>670112.0</td>\n",
       "      <td>669316.0</td>\n",
       "      <td>59943.0</td>\n",
       "      <td>11.179154</td>\n",
       "    </tr>\n",
       "  </tbody>\n",
       "</table>\n",
       "</div>"
      ],
      "text/plain": [
       "   소재부품코드  소재부품코드명  사업체수     종업원수  부가가치(백만원)     생산(백만원)     출하(백만원)  \\\n",
       "0   11000     섬유제품  1128  37167.0  3605258.0  10406977.0  10376181.0   \n",
       "1   11010  제사 및 방적   231   8850.0   640789.0   2336320.0   2325367.0   \n",
       "2   11011      면방적    28   2784.0   168162.0    822629.0    817555.0   \n",
       "3   11012      모방적    31   1143.0    90698.0    254704.0    251232.0   \n",
       "4   11013  화학섬유 방적    69   2471.0   187716.0    670112.0    669316.0   \n",
       "\n",
       "    재고(백만원)      생산/재고  \n",
       "0  835453.0  12.456688  \n",
       "1  230446.0  10.138254  \n",
       "2   85228.0   9.652098  \n",
       "3   43691.0   5.829667  \n",
       "4   59943.0  11.179154  "
      ]
     },
     "execution_count": 22,
     "metadata": {},
     "output_type": "execute_result"
    }
   ],
   "source": [
    "df['생산/재고'] = df['생산(백만원)']/ df['재고(백만원)']\n",
    "df.head()"
   ]
  },
  {
   "cell_type": "code",
   "execution_count": 23,
   "metadata": {
    "collapsed": true
   },
   "outputs": [],
   "source": [
    "df['출하/재고'] =df['출하(백만원)']/ df['재고(백만원)']\n",
    "df['사업체수/직원수'] = df['사업체수'] / df['종업원수']"
   ]
  },
  {
   "cell_type": "code",
   "execution_count": null,
   "metadata": {
    "collapsed": true
   },
   "outputs": [],
   "source": []
  },
  {
   "cell_type": "code",
   "execution_count": 27,
   "metadata": {},
   "outputs": [
    {
     "data": {
      "text/html": [
       "<div>\n",
       "<style>\n",
       "    .dataframe thead tr:only-child th {\n",
       "        text-align: right;\n",
       "    }\n",
       "\n",
       "    .dataframe thead th {\n",
       "        text-align: left;\n",
       "    }\n",
       "\n",
       "    .dataframe tbody tr th {\n",
       "        vertical-align: top;\n",
       "    }\n",
       "</style>\n",
       "<table border=\"1\" class=\"dataframe\">\n",
       "  <thead>\n",
       "    <tr style=\"text-align: right;\">\n",
       "      <th></th>\n",
       "      <th>소재부품코드</th>\n",
       "      <th>소재부품코드명</th>\n",
       "      <th>사업체수</th>\n",
       "      <th>종업원수</th>\n",
       "      <th>부가가치(백만원)</th>\n",
       "      <th>생산(백만원)</th>\n",
       "      <th>출하(백만원)</th>\n",
       "      <th>재고(백만원)</th>\n",
       "      <th>생산/재고</th>\n",
       "      <th>출하/재고</th>\n",
       "      <th>사업체수/직원수</th>\n",
       "    </tr>\n",
       "  </thead>\n",
       "  <tbody>\n",
       "    <tr>\n",
       "      <th>0</th>\n",
       "      <td>11000</td>\n",
       "      <td>섬유제품</td>\n",
       "      <td>1128</td>\n",
       "      <td>37167.0</td>\n",
       "      <td>3605258.0</td>\n",
       "      <td>10406977.0</td>\n",
       "      <td>10376181.0</td>\n",
       "      <td>835453.0</td>\n",
       "      <td>12.456688</td>\n",
       "      <td>12.419826</td>\n",
       "      <td>0.030350</td>\n",
       "    </tr>\n",
       "    <tr>\n",
       "      <th>1</th>\n",
       "      <td>11010</td>\n",
       "      <td>제사 및 방적</td>\n",
       "      <td>231</td>\n",
       "      <td>8850.0</td>\n",
       "      <td>640789.0</td>\n",
       "      <td>2336320.0</td>\n",
       "      <td>2325367.0</td>\n",
       "      <td>230446.0</td>\n",
       "      <td>10.138254</td>\n",
       "      <td>10.090724</td>\n",
       "      <td>0.026102</td>\n",
       "    </tr>\n",
       "    <tr>\n",
       "      <th>2</th>\n",
       "      <td>11011</td>\n",
       "      <td>면방적</td>\n",
       "      <td>28</td>\n",
       "      <td>2784.0</td>\n",
       "      <td>168162.0</td>\n",
       "      <td>822629.0</td>\n",
       "      <td>817555.0</td>\n",
       "      <td>85228.0</td>\n",
       "      <td>9.652098</td>\n",
       "      <td>9.592563</td>\n",
       "      <td>0.010057</td>\n",
       "    </tr>\n",
       "    <tr>\n",
       "      <th>3</th>\n",
       "      <td>11012</td>\n",
       "      <td>모방적</td>\n",
       "      <td>31</td>\n",
       "      <td>1143.0</td>\n",
       "      <td>90698.0</td>\n",
       "      <td>254704.0</td>\n",
       "      <td>251232.0</td>\n",
       "      <td>43691.0</td>\n",
       "      <td>5.829667</td>\n",
       "      <td>5.750200</td>\n",
       "      <td>0.027122</td>\n",
       "    </tr>\n",
       "    <tr>\n",
       "      <th>4</th>\n",
       "      <td>11013</td>\n",
       "      <td>화학섬유 방적</td>\n",
       "      <td>69</td>\n",
       "      <td>2471.0</td>\n",
       "      <td>187716.0</td>\n",
       "      <td>670112.0</td>\n",
       "      <td>669316.0</td>\n",
       "      <td>59943.0</td>\n",
       "      <td>11.179154</td>\n",
       "      <td>11.165874</td>\n",
       "      <td>0.027924</td>\n",
       "    </tr>\n",
       "  </tbody>\n",
       "</table>\n",
       "</div>"
      ],
      "text/plain": [
       "   소재부품코드  소재부품코드명  사업체수     종업원수  부가가치(백만원)     생산(백만원)     출하(백만원)  \\\n",
       "0   11000     섬유제품  1128  37167.0  3605258.0  10406977.0  10376181.0   \n",
       "1   11010  제사 및 방적   231   8850.0   640789.0   2336320.0   2325367.0   \n",
       "2   11011      면방적    28   2784.0   168162.0    822629.0    817555.0   \n",
       "3   11012      모방적    31   1143.0    90698.0    254704.0    251232.0   \n",
       "4   11013  화학섬유 방적    69   2471.0   187716.0    670112.0    669316.0   \n",
       "\n",
       "    재고(백만원)      생산/재고      출하/재고  사업체수/직원수  \n",
       "0  835453.0  12.456688  12.419826  0.030350  \n",
       "1  230446.0  10.138254  10.090724  0.026102  \n",
       "2   85228.0   9.652098   9.592563  0.010057  \n",
       "3   43691.0   5.829667   5.750200  0.027122  \n",
       "4   59943.0  11.179154  11.165874  0.027924  "
      ]
     },
     "execution_count": 27,
     "metadata": {},
     "output_type": "execute_result"
    }
   ],
   "source": [
    "df.head()"
   ]
  },
  {
   "cell_type": "code",
   "execution_count": 28,
   "metadata": {},
   "outputs": [
    {
     "data": {
      "text/html": [
       "<div>\n",
       "<style>\n",
       "    .dataframe thead tr:only-child th {\n",
       "        text-align: right;\n",
       "    }\n",
       "\n",
       "    .dataframe thead th {\n",
       "        text-align: left;\n",
       "    }\n",
       "\n",
       "    .dataframe tbody tr th {\n",
       "        vertical-align: top;\n",
       "    }\n",
       "</style>\n",
       "<table border=\"1\" class=\"dataframe\">\n",
       "  <thead>\n",
       "    <tr style=\"text-align: right;\">\n",
       "      <th></th>\n",
       "      <th>소재부품코드</th>\n",
       "      <th>소재부품코드명</th>\n",
       "      <th>사업체수</th>\n",
       "      <th>종업원수</th>\n",
       "      <th>부가가치(백만원)</th>\n",
       "      <th>생산(백만원)</th>\n",
       "      <th>출하(백만원)</th>\n",
       "      <th>재고(백만원)</th>\n",
       "      <th>생산/재고</th>\n",
       "      <th>출하/재고</th>\n",
       "      <th>사업체수/직원수</th>\n",
       "    </tr>\n",
       "  </thead>\n",
       "  <tbody>\n",
       "    <tr>\n",
       "      <th>189</th>\n",
       "      <td>22161</td>\n",
       "      <td>반도체제조 장비 부품</td>\n",
       "      <td>376</td>\n",
       "      <td>13592.0</td>\n",
       "      <td>1616541.0</td>\n",
       "      <td>3535978.0</td>\n",
       "      <td>3512857.0</td>\n",
       "      <td>99462.0</td>\n",
       "      <td>35.551045</td>\n",
       "      <td>35.318584</td>\n",
       "      <td>0.027663</td>\n",
       "    </tr>\n",
       "  </tbody>\n",
       "</table>\n",
       "</div>"
      ],
      "text/plain": [
       "     소재부품코드      소재부품코드명  사업체수     종업원수  부가가치(백만원)    생산(백만원)    출하(백만원)  \\\n",
       "189   22161  반도체제조 장비 부품   376  13592.0  1616541.0  3535978.0  3512857.0   \n",
       "\n",
       "     재고(백만원)      생산/재고      출하/재고  사업체수/직원수  \n",
       "189  99462.0  35.551045  35.318584  0.027663  "
      ]
     },
     "execution_count": 28,
     "metadata": {},
     "output_type": "execute_result"
    }
   ],
   "source": [
    "## 기본 info \n",
    "\n",
    "df[df['소재부품코드명'] == '반도체제조 장비 부품']"
   ]
  },
  {
   "cell_type": "markdown",
   "metadata": {},
   "source": [
    "svm텍 산업현황"
   ]
  },
  {
   "cell_type": "code",
   "execution_count": 44,
   "metadata": {},
   "outputs": [
    {
     "data": {
      "text/html": [
       "<div>\n",
       "<style>\n",
       "    .dataframe thead tr:only-child th {\n",
       "        text-align: right;\n",
       "    }\n",
       "\n",
       "    .dataframe thead th {\n",
       "        text-align: left;\n",
       "    }\n",
       "\n",
       "    .dataframe tbody tr th {\n",
       "        vertical-align: top;\n",
       "    }\n",
       "</style>\n",
       "<table border=\"1\" class=\"dataframe\">\n",
       "  <thead>\n",
       "    <tr style=\"text-align: right;\">\n",
       "      <th></th>\n",
       "      <th>index</th>\n",
       "      <th>소재부품코드</th>\n",
       "      <th>소재부품코드명</th>\n",
       "      <th>사업체수</th>\n",
       "      <th>종업원수</th>\n",
       "      <th>부가가치(백만원)</th>\n",
       "      <th>생산(백만원)</th>\n",
       "      <th>출하(백만원)</th>\n",
       "      <th>재고(백만원)</th>\n",
       "      <th>생산/재고</th>\n",
       "      <th>출하/재고</th>\n",
       "      <th>사업체수/직원수</th>\n",
       "    </tr>\n",
       "  </thead>\n",
       "  <tbody>\n",
       "    <tr>\n",
       "      <th>126</th>\n",
       "      <td>189</td>\n",
       "      <td>22161</td>\n",
       "      <td>반도체제조 장비 부품</td>\n",
       "      <td>376</td>\n",
       "      <td>13592.0</td>\n",
       "      <td>1616541.0</td>\n",
       "      <td>3535978.0</td>\n",
       "      <td>3512857.0</td>\n",
       "      <td>99462.0</td>\n",
       "      <td>35.551045</td>\n",
       "      <td>35.318584</td>\n",
       "      <td>0.027663</td>\n",
       "    </tr>\n",
       "  </tbody>\n",
       "</table>\n",
       "</div>"
      ],
      "text/plain": [
       "     index  소재부품코드      소재부품코드명  사업체수     종업원수  부가가치(백만원)    생산(백만원)  \\\n",
       "126    189   22161  반도체제조 장비 부품   376  13592.0  1616541.0  3535978.0   \n",
       "\n",
       "       출하(백만원)  재고(백만원)      생산/재고      출하/재고  사업체수/직원수  \n",
       "126  3512857.0  99462.0  35.551045  35.318584  0.027663  "
      ]
     },
     "execution_count": 44,
     "metadata": {},
     "output_type": "execute_result"
    }
   ],
   "source": [
    "## 재고 기준 나열 \n",
    "## 단위당 제품 가격이 다르니까 일단 오케이 \n",
    "\n",
    "df_stock1 = df.sort_values('재고(백만원)',ascending = False).reset_index()\n",
    "df_stock1[df_stock1['소재부품코드명'] == '반도체제조 장비 부품']\n",
    "\n",
    "# 127개중 175번쨰 "
   ]
  },
  {
   "cell_type": "code",
   "execution_count": 41,
   "metadata": {},
   "outputs": [
    {
     "data": {
      "text/html": [
       "<div>\n",
       "<style>\n",
       "    .dataframe thead tr:only-child th {\n",
       "        text-align: right;\n",
       "    }\n",
       "\n",
       "    .dataframe thead th {\n",
       "        text-align: left;\n",
       "    }\n",
       "\n",
       "    .dataframe tbody tr th {\n",
       "        vertical-align: top;\n",
       "    }\n",
       "</style>\n",
       "<table border=\"1\" class=\"dataframe\">\n",
       "  <thead>\n",
       "    <tr style=\"text-align: right;\">\n",
       "      <th></th>\n",
       "      <th>index</th>\n",
       "      <th>소재부품코드</th>\n",
       "      <th>소재부품코드명</th>\n",
       "      <th>사업체수</th>\n",
       "      <th>종업원수</th>\n",
       "      <th>부가가치(백만원)</th>\n",
       "      <th>생산(백만원)</th>\n",
       "      <th>출하(백만원)</th>\n",
       "      <th>재고(백만원)</th>\n",
       "      <th>생산/재고</th>\n",
       "      <th>출하/재고</th>\n",
       "      <th>사업체수/직원수</th>\n",
       "    </tr>\n",
       "  </thead>\n",
       "  <tbody>\n",
       "    <tr>\n",
       "      <th>58</th>\n",
       "      <td>189</td>\n",
       "      <td>22161</td>\n",
       "      <td>반도체제조 장비 부품</td>\n",
       "      <td>376</td>\n",
       "      <td>13592.0</td>\n",
       "      <td>1616541.0</td>\n",
       "      <td>3535978.0</td>\n",
       "      <td>3512857.0</td>\n",
       "      <td>99462.0</td>\n",
       "      <td>35.551045</td>\n",
       "      <td>35.318584</td>\n",
       "      <td>0.027663</td>\n",
       "    </tr>\n",
       "  </tbody>\n",
       "</table>\n",
       "</div>"
      ],
      "text/plain": [
       "    index  소재부품코드      소재부품코드명  사업체수     종업원수  부가가치(백만원)    생산(백만원)  \\\n",
       "58    189   22161  반도체제조 장비 부품   376  13592.0  1616541.0  3535978.0   \n",
       "\n",
       "      출하(백만원)  재고(백만원)      생산/재고      출하/재고  사업체수/직원수  \n",
       "58  3512857.0  99462.0  35.551045  35.318584  0.027663  "
      ]
     },
     "execution_count": 41,
     "metadata": {},
     "output_type": "execute_result"
    }
   ],
   "source": [
    "## 생산/재고 수준 ★\n",
    "## 59번째 꽤 높은수준 \n",
    "\n",
    "df_stock2 = df.sort_values('생산/재고', ascending = False).reset_index()\n",
    "df_stock2[df_stock2['소재부품코드명'] == '반도체제조 장비 부품']\n",
    "\n",
    "\n",
    "# 59번째 "
   ]
  },
  {
   "cell_type": "code",
   "execution_count": 42,
   "metadata": {},
   "outputs": [
    {
     "data": {
      "text/html": [
       "<div>\n",
       "<style>\n",
       "    .dataframe thead tr:only-child th {\n",
       "        text-align: right;\n",
       "    }\n",
       "\n",
       "    .dataframe thead th {\n",
       "        text-align: left;\n",
       "    }\n",
       "\n",
       "    .dataframe tbody tr th {\n",
       "        vertical-align: top;\n",
       "    }\n",
       "</style>\n",
       "<table border=\"1\" class=\"dataframe\">\n",
       "  <thead>\n",
       "    <tr style=\"text-align: right;\">\n",
       "      <th></th>\n",
       "      <th>index</th>\n",
       "      <th>소재부품코드</th>\n",
       "      <th>소재부품코드명</th>\n",
       "      <th>사업체수</th>\n",
       "      <th>종업원수</th>\n",
       "      <th>부가가치(백만원)</th>\n",
       "      <th>생산(백만원)</th>\n",
       "      <th>출하(백만원)</th>\n",
       "      <th>재고(백만원)</th>\n",
       "      <th>생산/재고</th>\n",
       "      <th>출하/재고</th>\n",
       "      <th>사업체수/직원수</th>\n",
       "    </tr>\n",
       "  </thead>\n",
       "  <tbody>\n",
       "    <tr>\n",
       "      <th>83</th>\n",
       "      <td>189</td>\n",
       "      <td>22161</td>\n",
       "      <td>반도체제조 장비 부품</td>\n",
       "      <td>376</td>\n",
       "      <td>13592.0</td>\n",
       "      <td>1616541.0</td>\n",
       "      <td>3535978.0</td>\n",
       "      <td>3512857.0</td>\n",
       "      <td>99462.0</td>\n",
       "      <td>35.551045</td>\n",
       "      <td>35.318584</td>\n",
       "      <td>0.027663</td>\n",
       "    </tr>\n",
       "  </tbody>\n",
       "</table>\n",
       "</div>"
      ],
      "text/plain": [
       "    index  소재부품코드      소재부품코드명  사업체수     종업원수  부가가치(백만원)    생산(백만원)  \\\n",
       "83    189   22161  반도체제조 장비 부품   376  13592.0  1616541.0  3535978.0   \n",
       "\n",
       "      출하(백만원)  재고(백만원)      생산/재고      출하/재고  사업체수/직원수  \n",
       "83  3512857.0  99462.0  35.551045  35.318584  0.027663  "
      ]
     },
     "execution_count": 42,
     "metadata": {},
     "output_type": "execute_result"
    }
   ],
   "source": [
    "## 부가가치\n",
    "## 부가가치 또한 높은 편에 속한다 \n",
    "\n",
    "\n",
    "df_stock3 = df.sort_values('부가가치(백만원)',ascending = False).reset_index()\n",
    "df_stock3[df_stock3['소재부품코드명'] == '반도체제조 장비 부품']\n",
    "\n",
    "# 부가가치 84 번쨰 "
   ]
  },
  {
   "cell_type": "code",
   "execution_count": 46,
   "metadata": {},
   "outputs": [
    {
     "data": {
      "text/html": [
       "<div>\n",
       "<style>\n",
       "    .dataframe thead tr:only-child th {\n",
       "        text-align: right;\n",
       "    }\n",
       "\n",
       "    .dataframe thead th {\n",
       "        text-align: left;\n",
       "    }\n",
       "\n",
       "    .dataframe tbody tr th {\n",
       "        vertical-align: top;\n",
       "    }\n",
       "</style>\n",
       "<table border=\"1\" class=\"dataframe\">\n",
       "  <thead>\n",
       "    <tr style=\"text-align: right;\">\n",
       "      <th></th>\n",
       "      <th>index</th>\n",
       "      <th>소재부품코드</th>\n",
       "      <th>소재부품코드명</th>\n",
       "      <th>사업체수</th>\n",
       "      <th>종업원수</th>\n",
       "      <th>부가가치(백만원)</th>\n",
       "      <th>생산(백만원)</th>\n",
       "      <th>출하(백만원)</th>\n",
       "      <th>재고(백만원)</th>\n",
       "      <th>생산/재고</th>\n",
       "      <th>출하/재고</th>\n",
       "      <th>사업체수/직원수</th>\n",
       "    </tr>\n",
       "  </thead>\n",
       "  <tbody>\n",
       "    <tr>\n",
       "      <th>60</th>\n",
       "      <td>189</td>\n",
       "      <td>22161</td>\n",
       "      <td>반도체제조 장비 부품</td>\n",
       "      <td>376</td>\n",
       "      <td>13592.0</td>\n",
       "      <td>1616541.0</td>\n",
       "      <td>3535978.0</td>\n",
       "      <td>3512857.0</td>\n",
       "      <td>99462.0</td>\n",
       "      <td>35.551045</td>\n",
       "      <td>35.318584</td>\n",
       "      <td>0.027663</td>\n",
       "    </tr>\n",
       "  </tbody>\n",
       "</table>\n",
       "</div>"
      ],
      "text/plain": [
       "    index  소재부품코드      소재부품코드명  사업체수     종업원수  부가가치(백만원)    생산(백만원)  \\\n",
       "60    189   22161  반도체제조 장비 부품   376  13592.0  1616541.0  3535978.0   \n",
       "\n",
       "      출하(백만원)  재고(백만원)      생산/재고      출하/재고  사업체수/직원수  \n",
       "60  3512857.0  99462.0  35.551045  35.318584  0.027663  "
      ]
     },
     "execution_count": 46,
     "metadata": {},
     "output_type": "execute_result"
    }
   ],
   "source": [
    "## 출하/ 재고 \n",
    "#높다 \n",
    "\n",
    "\n",
    "df_stock4 = df.sort_values('출하/재고',ascending = False).reset_index()\n",
    "df_stock4[df_stock4['소재부품코드명'] == '반도체제조 장비 부품']\n",
    "\n",
    "## 출하/ 재고 61번째 "
   ]
  },
  {
   "cell_type": "code",
   "execution_count": null,
   "metadata": {
    "collapsed": true
   },
   "outputs": [],
   "source": []
  },
  {
   "cell_type": "code",
   "execution_count": 78,
   "metadata": {
    "collapsed": true
   },
   "outputs": [],
   "source": [
    "pl1 = df[['생산/재고','출하/재고']].mean()\n",
    "pl2 = df[['생산/재고','출하/재고']].std()\n",
    "\n",
    "\n",
    "\n",
    "#pl25 =\n",
    "#pl50 = \n",
    "#pl75 ="
   ]
  },
  {
   "cell_type": "code",
   "execution_count": 80,
   "metadata": {
    "collapsed": true
   },
   "outputs": [],
   "source": [
    "tt = df[['생산/재고','출하/재고']].describe().drop(['count','min','25%','50%','75%', 'max'])"
   ]
  },
  {
   "cell_type": "code",
   "execution_count": 81,
   "metadata": {},
   "outputs": [
    {
     "data": {
      "text/html": [
       "<div>\n",
       "<style>\n",
       "    .dataframe thead tr:only-child th {\n",
       "        text-align: right;\n",
       "    }\n",
       "\n",
       "    .dataframe thead th {\n",
       "        text-align: left;\n",
       "    }\n",
       "\n",
       "    .dataframe tbody tr th {\n",
       "        vertical-align: top;\n",
       "    }\n",
       "</style>\n",
       "<table border=\"1\" class=\"dataframe\">\n",
       "  <thead>\n",
       "    <tr style=\"text-align: right;\">\n",
       "      <th></th>\n",
       "      <th>생산/재고</th>\n",
       "      <th>출하/재고</th>\n",
       "    </tr>\n",
       "  </thead>\n",
       "  <tbody>\n",
       "    <tr>\n",
       "      <th>mean</th>\n",
       "      <td>27.813237</td>\n",
       "      <td>27.825119</td>\n",
       "    </tr>\n",
       "    <tr>\n",
       "      <th>std</th>\n",
       "      <td>21.440467</td>\n",
       "      <td>21.455840</td>\n",
       "    </tr>\n",
       "  </tbody>\n",
       "</table>\n",
       "</div>"
      ],
      "text/plain": [
       "          생산/재고      출하/재고\n",
       "mean  27.813237  27.825119\n",
       "std   21.440467  21.455840"
      ]
     },
     "execution_count": 81,
     "metadata": {},
     "output_type": "execute_result"
    }
   ],
   "source": [
    "tt"
   ]
  },
  {
   "cell_type": "code",
   "execution_count": 82,
   "metadata": {
    "collapsed": true
   },
   "outputs": [],
   "source": [
    "pt = df[df['소재부품코드명'] == '반도체제조 장비 부품']"
   ]
  },
  {
   "cell_type": "code",
   "execution_count": 84,
   "metadata": {
    "collapsed": true
   },
   "outputs": [],
   "source": [
    "pt = pt[['생산/재고','출하/재고']]"
   ]
  },
  {
   "cell_type": "code",
   "execution_count": 93,
   "metadata": {
    "collapsed": true
   },
   "outputs": [],
   "source": [
    "t1 = tt.drop('std')"
   ]
  },
  {
   "cell_type": "code",
   "execution_count": 105,
   "metadata": {},
   "outputs": [
    {
     "data": {
      "text/html": [
       "<div>\n",
       "<style>\n",
       "    .dataframe thead tr:only-child th {\n",
       "        text-align: right;\n",
       "    }\n",
       "\n",
       "    .dataframe thead th {\n",
       "        text-align: left;\n",
       "    }\n",
       "\n",
       "    .dataframe tbody tr th {\n",
       "        vertical-align: top;\n",
       "    }\n",
       "</style>\n",
       "<table border=\"1\" class=\"dataframe\">\n",
       "  <thead>\n",
       "    <tr style=\"text-align: right;\">\n",
       "      <th></th>\n",
       "      <th>생산/재고</th>\n",
       "      <th>출하/재고</th>\n",
       "    </tr>\n",
       "  </thead>\n",
       "  <tbody>\n",
       "    <tr>\n",
       "      <th>189</th>\n",
       "      <td>35.551045</td>\n",
       "      <td>35.318584</td>\n",
       "    </tr>\n",
       "  </tbody>\n",
       "</table>\n",
       "</div>"
      ],
      "text/plain": [
       "         생산/재고      출하/재고\n",
       "189  35.551045  35.318584"
      ]
     },
     "execution_count": 105,
     "metadata": {},
     "output_type": "execute_result"
    }
   ],
   "source": [
    "pt"
   ]
  },
  {
   "cell_type": "code",
   "execution_count": 95,
   "metadata": {},
   "outputs": [
    {
     "data": {
      "text/html": [
       "<div>\n",
       "<style>\n",
       "    .dataframe thead tr:only-child th {\n",
       "        text-align: right;\n",
       "    }\n",
       "\n",
       "    .dataframe thead th {\n",
       "        text-align: left;\n",
       "    }\n",
       "\n",
       "    .dataframe tbody tr th {\n",
       "        vertical-align: top;\n",
       "    }\n",
       "</style>\n",
       "<table border=\"1\" class=\"dataframe\">\n",
       "  <thead>\n",
       "    <tr style=\"text-align: right;\">\n",
       "      <th></th>\n",
       "      <th>생산/재고</th>\n",
       "      <th>출하/재고</th>\n",
       "    </tr>\n",
       "  </thead>\n",
       "  <tbody>\n",
       "    <tr>\n",
       "      <th>mean</th>\n",
       "      <td>27.813237</td>\n",
       "      <td>27.825119</td>\n",
       "    </tr>\n",
       "  </tbody>\n",
       "</table>\n",
       "</div>"
      ],
      "text/plain": [
       "          생산/재고      출하/재고\n",
       "mean  27.813237  27.825119"
      ]
     },
     "execution_count": 95,
     "metadata": {},
     "output_type": "execute_result"
    }
   ],
   "source": [
    "t1"
   ]
  },
  {
   "cell_type": "code",
   "execution_count": 106,
   "metadata": {
    "collapsed": true
   },
   "outputs": [],
   "source": [
    "pt.reset_index(inplace=True)"
   ]
  },
  {
   "cell_type": "code",
   "execution_count": 108,
   "metadata": {
    "collapsed": true
   },
   "outputs": [],
   "source": [
    "pt.drop('index', axis = 1 ,inplace=True)"
   ]
  },
  {
   "cell_type": "code",
   "execution_count": null,
   "metadata": {
    "collapsed": true
   },
   "outputs": [],
   "source": []
  },
  {
   "cell_type": "code",
   "execution_count": 110,
   "metadata": {
    "collapsed": true
   },
   "outputs": [],
   "source": [
    "t1.reset_index(inplace=True)\n",
    "t1.drop('index', axis = 1 ,inplace=True)\n"
   ]
  },
  {
   "cell_type": "code",
   "execution_count": 122,
   "metadata": {},
   "outputs": [
    {
     "data": {
      "text/html": [
       "<div>\n",
       "<style>\n",
       "    .dataframe thead tr:only-child th {\n",
       "        text-align: right;\n",
       "    }\n",
       "\n",
       "    .dataframe thead th {\n",
       "        text-align: left;\n",
       "    }\n",
       "\n",
       "    .dataframe tbody tr th {\n",
       "        vertical-align: top;\n",
       "    }\n",
       "</style>\n",
       "<table border=\"1\" class=\"dataframe\">\n",
       "  <thead>\n",
       "    <tr style=\"text-align: right;\">\n",
       "      <th></th>\n",
       "      <th>생산/재고</th>\n",
       "      <th>출하/재고</th>\n",
       "    </tr>\n",
       "  </thead>\n",
       "  <tbody>\n",
       "    <tr>\n",
       "      <th>0</th>\n",
       "      <td>27.813237</td>\n",
       "      <td>27.825119</td>\n",
       "    </tr>\n",
       "  </tbody>\n",
       "</table>\n",
       "</div>"
      ],
      "text/plain": [
       "       생산/재고      출하/재고\n",
       "0  27.813237  27.825119"
      ]
     },
     "execution_count": 122,
     "metadata": {},
     "output_type": "execute_result"
    }
   ],
   "source": [
    "t1"
   ]
  },
  {
   "cell_type": "markdown",
   "metadata": {},
   "source": [
    "df.reset_index(inplace =True)"
   ]
  },
  {
   "cell_type": "code",
   "execution_count": 123,
   "metadata": {},
   "outputs": [
    {
     "data": {
      "text/html": [
       "<div>\n",
       "<style>\n",
       "    .dataframe thead tr:only-child th {\n",
       "        text-align: right;\n",
       "    }\n",
       "\n",
       "    .dataframe thead th {\n",
       "        text-align: left;\n",
       "    }\n",
       "\n",
       "    .dataframe tbody tr th {\n",
       "        vertical-align: top;\n",
       "    }\n",
       "</style>\n",
       "<table border=\"1\" class=\"dataframe\">\n",
       "  <thead>\n",
       "    <tr style=\"text-align: right;\">\n",
       "      <th></th>\n",
       "      <th>생산/재고</th>\n",
       "      <th>출하/재고</th>\n",
       "    </tr>\n",
       "  </thead>\n",
       "  <tbody>\n",
       "    <tr>\n",
       "      <th>0</th>\n",
       "      <td>35.551045</td>\n",
       "      <td>35.318584</td>\n",
       "    </tr>\n",
       "  </tbody>\n",
       "</table>\n",
       "</div>"
      ],
      "text/plain": [
       "       생산/재고      출하/재고\n",
       "0  35.551045  35.318584"
      ]
     },
     "execution_count": 123,
     "metadata": {},
     "output_type": "execute_result"
    }
   ],
   "source": [
    "pt"
   ]
  },
  {
   "cell_type": "code",
   "execution_count": 160,
   "metadata": {
    "collapsed": true
   },
   "outputs": [],
   "source": [
    "import matplotlib.font_manager as fm\n",
    "\n",
    "font_path = 'malgun.ttf'\n",
    "fontprop = fm.FontProperties(fname=font_path, size=16)\n"
   ]
  },
  {
   "cell_type": "code",
   "execution_count": 165,
   "metadata": {},
   "outputs": [
    {
     "data": {
      "image/png": "[encoded data removed]",
      "text/plain": [
       "<Figure size 432x288 with 1 Axes>"
      ]
     },
     "metadata": {},
     "output_type": "display_data"
    }
   ],
   "source": [
    "plt.plot(['Production/Stock','Shipment/Stock'], [35.5,35.3])\n",
    "plt.plot(['Production/Stock','Shipment/Stock'], [27.8,27.8])\n",
    "\n",
    "plt.xlabel('stock')\n",
    "plt.ylabel('단위:백만원', fontproperties=fontprop)\n",
    "plt.title('부품소재산업대비 반도체제조부품현황',fontproperties=fontprop)\n",
    "plt.legend(['A','B'])\n",
    "\n",
    "plt.show()"
   ]
  },
  {
   "cell_type": "code",
   "execution_count": 167,
   "metadata": {},
   "outputs": [
    {
     "data": {
      "image/png": "[encoded data removed]",
      "text/plain": [
       "<Figure size 432x288 with 1 Axes>"
      ]
     },
     "metadata": {},
     "output_type": "display_data"
    }
   ],
   "source": [
    "plt.bar(['Production/Stock','Shipment/Stock'], [35.5,35.3])\n",
    "plt.bar(['Production/Stock','Shipment/Stock'], [27.8,27.8])\n",
    "\n",
    "plt.xlabel('stock')\n",
    "plt.ylabel('단위:백만원', fontproperties=fontprop)\n",
    "plt.title('부품소재산업대비 반도체제조부품현황',fontproperties=fontprop)\n",
    "plt.legend(['A','B'])\n",
    "\n",
    "plt.show()"
   ]
  },
  {
   "cell_type": "code",
   "execution_count": null,
   "metadata": {
    "collapsed": true
   },
   "outputs": [],
   "source": []
  },
  {
   "cell_type": "code",
   "execution_count": null,
   "metadata": {
    "collapsed": true
   },
   "outputs": [],
   "source": []
  },
  {
   "cell_type": "code",
   "execution_count": 146,
   "metadata": {
    "collapsed": true
   },
   "outputs": [],
   "source": [
    "plt.xlabel?"
   ]
  },
  {
   "cell_type": "code",
   "execution_count": 156,
   "metadata": {
    "collapsed": true
   },
   "outputs": [],
   "source": [
    "plt.plot?"
   ]
  },
  {
   "cell_type": "code",
   "execution_count": 127,
   "metadata": {
    "collapsed": true
   },
   "outputs": [],
   "source": [
    "qq = pd.concat([t1,pt], axis=0 )"
   ]
  },
  {
   "cell_type": "code",
   "execution_count": 129,
   "metadata": {
    "collapsed": true
   },
   "outputs": [],
   "source": [
    "qq.reset_index(inplace= True)"
   ]
  },
  {
   "cell_type": "code",
   "execution_count": 132,
   "metadata": {},
   "outputs": [
    {
     "data": {
      "text/html": [
       "<div>\n",
       "<style>\n",
       "    .dataframe thead tr:only-child th {\n",
       "        text-align: right;\n",
       "    }\n",
       "\n",
       "    .dataframe thead th {\n",
       "        text-align: left;\n",
       "    }\n",
       "\n",
       "    .dataframe tbody tr th {\n",
       "        vertical-align: top;\n",
       "    }\n",
       "</style>\n",
       "<table border=\"1\" class=\"dataframe\">\n",
       "  <thead>\n",
       "    <tr style=\"text-align: right;\">\n",
       "      <th></th>\n",
       "      <th>생산/재고</th>\n",
       "      <th>출하/재고</th>\n",
       "    </tr>\n",
       "  </thead>\n",
       "  <tbody>\n",
       "    <tr>\n",
       "      <th>0</th>\n",
       "      <td>27.813237</td>\n",
       "      <td>27.825119</td>\n",
       "    </tr>\n",
       "    <tr>\n",
       "      <th>1</th>\n",
       "      <td>35.551045</td>\n",
       "      <td>35.318584</td>\n",
       "    </tr>\n",
       "  </tbody>\n",
       "</table>\n",
       "</div>"
      ],
      "text/plain": [
       "       생산/재고      출하/재고\n",
       "0  27.813237  27.825119\n",
       "1  35.551045  35.318584"
      ]
     },
     "execution_count": 132,
     "metadata": {},
     "output_type": "execute_result"
    }
   ],
   "source": [
    "qq.drop('index', inplace = True, axis=1)\n",
    "qq"
   ]
  },
  {
   "cell_type": "code",
   "execution_count": 135,
   "metadata": {},
   "outputs": [
    {
     "data": {
      "image/png": "[encoded data removed]",
      "text/plain": [
       "<Figure size 432x288 with 1 Axes>"
      ]
     },
     "metadata": {},
     "output_type": "display_data"
    }
   ],
   "source": [
    "plt.plot(qq)\n",
    "plt.show()"
   ]
  },
  {
   "cell_type": "code",
   "execution_count": null,
   "metadata": {
    "collapsed": true
   },
   "outputs": [],
   "source": [
    "plt"
   ]
  },
  {
   "cell_type": "code",
   "execution_count": null,
   "metadata": {
    "collapsed": true
   },
   "outputs": [],
   "source": []
  },
  {
   "cell_type": "code",
   "execution_count": 49,
   "metadata": {},
   "outputs": [
    {
     "data": {
      "text/html": [
       "<div>\n",
       "<style>\n",
       "    .dataframe thead tr:only-child th {\n",
       "        text-align: right;\n",
       "    }\n",
       "\n",
       "    .dataframe thead th {\n",
       "        text-align: left;\n",
       "    }\n",
       "\n",
       "    .dataframe tbody tr th {\n",
       "        vertical-align: top;\n",
       "    }\n",
       "</style>\n",
       "<table border=\"1\" class=\"dataframe\">\n",
       "  <thead>\n",
       "    <tr style=\"text-align: right;\">\n",
       "      <th></th>\n",
       "      <th>소재부품코드</th>\n",
       "      <th>소재부품코드명</th>\n",
       "      <th>사업체수</th>\n",
       "      <th>종업원수</th>\n",
       "      <th>부가가치(백만원)</th>\n",
       "      <th>생산(백만원)</th>\n",
       "      <th>출하(백만원)</th>\n",
       "      <th>재고(백만원)</th>\n",
       "      <th>생산/재고</th>\n",
       "      <th>출하/재고</th>\n",
       "      <th>사업체수/직원수</th>\n",
       "    </tr>\n",
       "  </thead>\n",
       "  <tbody>\n",
       "    <tr>\n",
       "      <th>189</th>\n",
       "      <td>22161</td>\n",
       "      <td>반도체제조 장비 부품</td>\n",
       "      <td>376</td>\n",
       "      <td>13592.0</td>\n",
       "      <td>1616541.0</td>\n",
       "      <td>3535978.0</td>\n",
       "      <td>3512857.0</td>\n",
       "      <td>99462.0</td>\n",
       "      <td>35.551045</td>\n",
       "      <td>35.318584</td>\n",
       "      <td>0.027663</td>\n",
       "    </tr>\n",
       "  </tbody>\n",
       "</table>\n",
       "</div>"
      ],
      "text/plain": [
       "     소재부품코드      소재부품코드명  사업체수     종업원수  부가가치(백만원)    생산(백만원)    출하(백만원)  \\\n",
       "189   22161  반도체제조 장비 부품   376  13592.0  1616541.0  3535978.0  3512857.0   \n",
       "\n",
       "     재고(백만원)      생산/재고      출하/재고  사업체수/직원수  \n",
       "189  99462.0  35.551045  35.318584  0.027663  "
      ]
     },
     "execution_count": 49,
     "metadata": {},
     "output_type": "execute_result"
    }
   ],
   "source": [
    "## 기본 info \n",
    "\n",
    "df[df['소재부품코드명'] == '반도체제조 장비 부품']"
   ]
  },
  {
   "cell_type": "code",
   "execution_count": null,
   "metadata": {
    "collapsed": true
   },
   "outputs": [],
   "source": [
    "plt.plot()"
   ]
  },
  {
   "cell_type": "code",
   "execution_count": 55,
   "metadata": {},
   "outputs": [
    {
     "data": {
      "image/png": "[encoded data removed]",
      "text/plain": [
       "<Figure size 432x288 with 1 Axes>"
      ]
     },
     "metadata": {},
     "output_type": "display_data"
    }
   ],
   "source": [
    "plt.plot(df.describe())\n",
    "plt.show()"
   ]
  },
  {
   "cell_type": "code",
   "execution_count": null,
   "metadata": {
    "collapsed": true
   },
   "outputs": [],
   "source": [
    "pd.merge()"
   ]
  },
  {
   "cell_type": "code",
   "execution_count": 98,
   "metadata": {},
   "outputs": [
    {
     "data": {
      "text/html": [
       "<div>\n",
       "<style>\n",
       "    .dataframe thead tr:only-child th {\n",
       "        text-align: right;\n",
       "    }\n",
       "\n",
       "    .dataframe thead th {\n",
       "        text-align: left;\n",
       "    }\n",
       "\n",
       "    .dataframe tbody tr th {\n",
       "        vertical-align: top;\n",
       "    }\n",
       "</style>\n",
       "<table border=\"1\" class=\"dataframe\">\n",
       "  <thead>\n",
       "    <tr style=\"text-align: right;\">\n",
       "      <th></th>\n",
       "      <th>소재부품코드</th>\n",
       "      <th>사업체수</th>\n",
       "      <th>종업원수</th>\n",
       "      <th>부가가치(백만원)</th>\n",
       "      <th>생산(백만원)</th>\n",
       "      <th>출하(백만원)</th>\n",
       "      <th>재고(백만원)</th>\n",
       "      <th>생산/재고</th>\n",
       "      <th>출하/재고</th>\n",
       "      <th>사업체수/직원수</th>\n",
       "    </tr>\n",
       "  </thead>\n",
       "  <tbody>\n",
       "    <tr>\n",
       "      <th>count</th>\n",
       "      <td>315.0</td>\n",
       "      <td>315.0</td>\n",
       "      <td>301.0</td>\n",
       "      <td>301.0</td>\n",
       "      <td>301.0</td>\n",
       "      <td>301.0</td>\n",
       "      <td>301.0</td>\n",
       "      <td>301.0</td>\n",
       "      <td>301.0</td>\n",
       "      <td>301.0</td>\n",
       "    </tr>\n",
       "    <tr>\n",
       "      <th>mean</th>\n",
       "      <td>20019.0</td>\n",
       "      <td>241.0</td>\n",
       "      <td>13155.0</td>\n",
       "      <td>2478676.0</td>\n",
       "      <td>6731268.0</td>\n",
       "      <td>6742061.0</td>\n",
       "      <td>251238.0</td>\n",
       "      <td>28.0</td>\n",
       "      <td>28.0</td>\n",
       "      <td>0.0</td>\n",
       "    </tr>\n",
       "    <tr>\n",
       "      <th>std</th>\n",
       "      <td>5529.0</td>\n",
       "      <td>539.0</td>\n",
       "      <td>29407.0</td>\n",
       "      <td>7443781.0</td>\n",
       "      <td>16768335.0</td>\n",
       "      <td>16813924.0</td>\n",
       "      <td>579852.0</td>\n",
       "      <td>21.0</td>\n",
       "      <td>21.0</td>\n",
       "      <td>0.0</td>\n",
       "    </tr>\n",
       "    <tr>\n",
       "      <th>min</th>\n",
       "      <td>11000.0</td>\n",
       "      <td>0.0</td>\n",
       "      <td>66.0</td>\n",
       "      <td>5426.0</td>\n",
       "      <td>9223.0</td>\n",
       "      <td>9182.0</td>\n",
       "      <td>134.0</td>\n",
       "      <td>3.0</td>\n",
       "      <td>3.0</td>\n",
       "      <td>0.0</td>\n",
       "    </tr>\n",
       "    <tr>\n",
       "      <th>25%</th>\n",
       "      <td>14070.0</td>\n",
       "      <td>21.0</td>\n",
       "      <td>1143.0</td>\n",
       "      <td>152074.0</td>\n",
       "      <td>344552.0</td>\n",
       "      <td>341798.0</td>\n",
       "      <td>16484.0</td>\n",
       "      <td>16.0</td>\n",
       "      <td>16.0</td>\n",
       "      <td>0.0</td>\n",
       "    </tr>\n",
       "    <tr>\n",
       "      <th>50%</th>\n",
       "      <td>22072.0</td>\n",
       "      <td>70.0</td>\n",
       "      <td>3883.0</td>\n",
       "      <td>529293.0</td>\n",
       "      <td>1533446.0</td>\n",
       "      <td>1532391.0</td>\n",
       "      <td>63085.0</td>\n",
       "      <td>24.0</td>\n",
       "      <td>24.0</td>\n",
       "      <td>0.0</td>\n",
       "    </tr>\n",
       "    <tr>\n",
       "      <th>75%</th>\n",
       "      <td>25020.0</td>\n",
       "      <td>204.0</td>\n",
       "      <td>10401.0</td>\n",
       "      <td>1828890.0</td>\n",
       "      <td>5545740.0</td>\n",
       "      <td>5534595.0</td>\n",
       "      <td>253500.0</td>\n",
       "      <td>33.0</td>\n",
       "      <td>33.0</td>\n",
       "      <td>0.0</td>\n",
       "    </tr>\n",
       "    <tr>\n",
       "      <th>max</th>\n",
       "      <td>27111.0</td>\n",
       "      <td>5180.0</td>\n",
       "      <td>270177.0</td>\n",
       "      <td>90564023.0</td>\n",
       "      <td>164992892.0</td>\n",
       "      <td>165626999.0</td>\n",
       "      <td>5355621.0</td>\n",
       "      <td>215.0</td>\n",
       "      <td>216.0</td>\n",
       "      <td>0.0</td>\n",
       "    </tr>\n",
       "  </tbody>\n",
       "</table>\n",
       "</div>"
      ],
      "text/plain": [
       "        소재부품코드    사업체수      종업원수   부가가치(백만원)      생산(백만원)      출하(백만원)  \\\n",
       "count    315.0   315.0     301.0       301.0        301.0        301.0   \n",
       "mean   20019.0   241.0   13155.0   2478676.0    6731268.0    6742061.0   \n",
       "std     5529.0   539.0   29407.0   7443781.0   16768335.0   16813924.0   \n",
       "min    11000.0     0.0      66.0      5426.0       9223.0       9182.0   \n",
       "25%    14070.0    21.0    1143.0    152074.0     344552.0     341798.0   \n",
       "50%    22072.0    70.0    3883.0    529293.0    1533446.0    1532391.0   \n",
       "75%    25020.0   204.0   10401.0   1828890.0    5545740.0    5534595.0   \n",
       "max    27111.0  5180.0  270177.0  90564023.0  164992892.0  165626999.0   \n",
       "\n",
       "         재고(백만원)  생산/재고  출하/재고  사업체수/직원수  \n",
       "count      301.0  301.0  301.0     301.0  \n",
       "mean    251238.0   28.0   28.0       0.0  \n",
       "std     579852.0   21.0   21.0       0.0  \n",
       "min        134.0    3.0    3.0       0.0  \n",
       "25%      16484.0   16.0   16.0       0.0  \n",
       "50%      63085.0   24.0   24.0       0.0  \n",
       "75%     253500.0   33.0   33.0       0.0  \n",
       "max    5355621.0  215.0  216.0       0.0  "
      ]
     },
     "execution_count": 98,
     "metadata": {},
     "output_type": "execute_result"
    }
   ],
   "source": [
    "df.describe().round()"
   ]
  },
  {
   "cell_type": "code",
   "execution_count": 99,
   "metadata": {},
   "outputs": [
    {
     "data": {
      "image/png": "[encoded data removed]",
      "text/plain": [
       "<Figure size 432x288 with 1 Axes>"
      ]
     },
     "metadata": {},
     "output_type": "display_data"
    }
   ],
   "source": [
    "plt.plot(df.describe().round())\n",
    "plt.show()"
   ]
  },
  {
   "cell_type": "code",
   "execution_count": null,
   "metadata": {
    "collapsed": true
   },
   "outputs": [],
   "source": []
  }
 ],
 "metadata": {
  "kernelspec": {
   "display_name": "Python 3",
   "language": "python",
   "name": "python3"
  },
  "language_info": {
   "codemirror_mode": {
    "name": "ipython",
    "version": 3
   },
   "file_extension": ".py",
   "mimetype": "text/x-python",
   "name": "python",
   "nbconvert_exporter": "python",
   "pygments_lexer": "ipython3",
   "version": "3.6.8"
  }
 },
 "nbformat": 4,
 "nbformat_minor": 2
}
